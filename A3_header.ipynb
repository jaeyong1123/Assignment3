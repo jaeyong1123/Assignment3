{
 "cells": [
  {
   "cell_type": "markdown",
   "metadata": {
    "nbgrader": {
     "grade": false,
     "grade_id": "a3_intro",
     "locked": true,
     "schema_version": 1,
     "solution": false
    }
   },
   "source": [
    "# Assignment 3\n",
    "CSCI 1360: Foundations for Informatics and Analytics\n",
    "\n",
    "## Important Dates\n",
    "\n",
    " - Released: 2020-02-06  \n",
    " - Deadline: 2020-02-14 at 11:59:59pm [EDT](http://www.timeanddate.com/worldclock/usa/athens)\n",
    "\n",
    "## Grading Breakdown\n",
    "\n",
    " - Q1: 30pts\n",
    " - Q2: 30pts\n",
    " - Q3: 40pts\n",
    " \n",
    "Total: 100pts\n",
    "\n",
    " - BONUS, Part A: 20pts\n",
    " - BONUS, Part B: 20pts\n",
    " \n",
    "## Overview\n",
    "\n",
    "This assignment will go over loops, conditionals, and basics of functions in Python.\n",
    "\n",
    "Starting with this assignment and continuing for the rest of the semester, you will no longer have to complete partially-filled functions. Instead, you'll be writing your solutions to the questions entirely from scratch by defining and filling in functions of your creation.\n",
    "\n",
    "Post any questions on Piazza! Believe me when I say: you won't be the only one with a particular question!"
   ]
  }
 ],
 "metadata": {
  "anaconda-cloud": {},
  "celltoolbar": "Create Assignment",
  "kernelspec": {
   "display_name": "Python 3",
   "language": "python",
   "name": "python3"
  },
  "language_info": {
   "codemirror_mode": {
    "name": "ipython",
    "version": 3
   },
   "file_extension": ".py",
   "mimetype": "text/x-python",
   "name": "python",
   "nbconvert_exporter": "python",
   "pygments_lexer": "ipython3",
   "version": "3.7.4"
  }
 },
 "nbformat": 4,
 "nbformat_minor": 1
}
